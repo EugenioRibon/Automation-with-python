{
 "cells": [
  {
   "cell_type": "markdown",
   "metadata": {},
   "source": [
    "# Extraer tablas con datos de una página web"
   ]
  },
  {
   "cell_type": "code",
   "execution_count": 11,
   "metadata": {},
   "outputs": [],
   "source": [
    "import pandas as pd\n",
    "#import html5lib as html"
   ]
  },
  {
   "cell_type": "code",
   "execution_count": 12,
   "metadata": {},
   "outputs": [],
   "source": [
    "awards = pd.read_html(\"https://en.wikipedia.org/wiki/Academy_Awards\")"
   ]
  },
  {
   "cell_type": "code",
   "execution_count": 9,
   "metadata": {},
   "outputs": [
    {
     "data": {
      "text/plain": [
       "26"
      ]
     },
     "execution_count": 9,
     "metadata": {},
     "output_type": "execute_result"
    }
   ],
   "source": [
    "len(awards)"
   ]
  },
  {
   "cell_type": "code",
   "execution_count": 10,
   "metadata": {},
   "outputs": [
    {
     "data": {
      "text/html": [
       "<div>\n",
       "<style scoped>\n",
       "    .dataframe tbody tr th:only-of-type {\n",
       "        vertical-align: middle;\n",
       "    }\n",
       "\n",
       "    .dataframe tbody tr th {\n",
       "        vertical-align: top;\n",
       "    }\n",
       "\n",
       "    .dataframe thead th {\n",
       "        text-align: right;\n",
       "    }\n",
       "</style>\n",
       "<table border=\"1\" class=\"dataframe\">\n",
       "  <thead>\n",
       "    <tr style=\"text-align: right;\">\n",
       "      <th></th>\n",
       "      <th>0</th>\n",
       "      <th>1</th>\n",
       "      <th>2</th>\n",
       "    </tr>\n",
       "  </thead>\n",
       "  <tbody>\n",
       "    <tr>\n",
       "      <th>0</th>\n",
       "      <td>← 2020/21 Best in films in 2021 2022 →</td>\n",
       "      <td>← 2020/21 Best in films in 2021 2022 →</td>\n",
       "      <td>NaN</td>\n",
       "    </tr>\n",
       "    <tr>\n",
       "      <th>1</th>\n",
       "      <td>← 2020/21</td>\n",
       "      <td>Best in films in 2021</td>\n",
       "      <td>2022 →</td>\n",
       "    </tr>\n",
       "    <tr>\n",
       "      <th>2</th>\n",
       "      <td>Award Best Actor Best Actress Winner Will Smit...</td>\n",
       "      <td>Award Best Actor Best Actress Winner Will Smit...</td>\n",
       "      <td>NaN</td>\n",
       "    </tr>\n",
       "    <tr>\n",
       "      <th>3</th>\n",
       "      <td>NaN</td>\n",
       "      <td>NaN</td>\n",
       "      <td>NaN</td>\n",
       "    </tr>\n",
       "    <tr>\n",
       "      <th>4</th>\n",
       "      <td>Award</td>\n",
       "      <td>Best Actor</td>\n",
       "      <td>Best Actress</td>\n",
       "    </tr>\n",
       "    <tr>\n",
       "      <th>5</th>\n",
       "      <td>Winner</td>\n",
       "      <td>Will Smith(King Richard)</td>\n",
       "      <td>Jessica Chastain(The Eyes of Tammy Faye)</td>\n",
       "    </tr>\n",
       "    <tr>\n",
       "      <th>6</th>\n",
       "      <td>NaN</td>\n",
       "      <td>NaN</td>\n",
       "      <td>NaN</td>\n",
       "    </tr>\n",
       "    <tr>\n",
       "      <th>7</th>\n",
       "      <td>Award</td>\n",
       "      <td>Best Supporting Actor</td>\n",
       "      <td>Best Supporting Actress</td>\n",
       "    </tr>\n",
       "    <tr>\n",
       "      <th>8</th>\n",
       "      <td>Winner</td>\n",
       "      <td>Troy Kotsur(CODA)</td>\n",
       "      <td>Ariana DeBose(West Side Story)</td>\n",
       "    </tr>\n",
       "    <tr>\n",
       "      <th>9</th>\n",
       "      <td>NaN</td>\n",
       "      <td>NaN</td>\n",
       "      <td>NaN</td>\n",
       "    </tr>\n",
       "    <tr>\n",
       "      <th>10</th>\n",
       "      <td>Award</td>\n",
       "      <td>Best Director</td>\n",
       "      <td>Best Original Screenplay</td>\n",
       "    </tr>\n",
       "    <tr>\n",
       "      <th>11</th>\n",
       "      <td>Winner</td>\n",
       "      <td>Jane Campion(The Power of the Dog)</td>\n",
       "      <td>Kenneth Branagh(Belfast)</td>\n",
       "    </tr>\n",
       "    <tr>\n",
       "      <th>12</th>\n",
       "      <td>Previous Best Picture Nomadland Best Picture CODA</td>\n",
       "      <td>Previous Best Picture Nomadland Best Picture CODA</td>\n",
       "      <td>NaN</td>\n",
       "    </tr>\n",
       "    <tr>\n",
       "      <th>13</th>\n",
       "      <td>Previous Best Picture Nomadland</td>\n",
       "      <td>Best Picture CODA</td>\n",
       "      <td>NaN</td>\n",
       "    </tr>\n",
       "  </tbody>\n",
       "</table>\n",
       "</div>"
      ],
      "text/plain": [
       "                                                    0  \\\n",
       "0              ← 2020/21 Best in films in 2021 2022 →   \n",
       "1                                           ← 2020/21   \n",
       "2   Award Best Actor Best Actress Winner Will Smit...   \n",
       "3                                                 NaN   \n",
       "4                                               Award   \n",
       "5                                              Winner   \n",
       "6                                                 NaN   \n",
       "7                                               Award   \n",
       "8                                              Winner   \n",
       "9                                                 NaN   \n",
       "10                                              Award   \n",
       "11                                             Winner   \n",
       "12  Previous Best Picture Nomadland Best Picture CODA   \n",
       "13                    Previous Best Picture Nomadland   \n",
       "\n",
       "                                                    1  \\\n",
       "0              ← 2020/21 Best in films in 2021 2022 →   \n",
       "1                               Best in films in 2021   \n",
       "2   Award Best Actor Best Actress Winner Will Smit...   \n",
       "3                                                 NaN   \n",
       "4                                          Best Actor   \n",
       "5                            Will Smith(King Richard)   \n",
       "6                                                 NaN   \n",
       "7                               Best Supporting Actor   \n",
       "8                                   Troy Kotsur(CODA)   \n",
       "9                                                 NaN   \n",
       "10                                      Best Director   \n",
       "11                 Jane Campion(The Power of the Dog)   \n",
       "12  Previous Best Picture Nomadland Best Picture CODA   \n",
       "13                                  Best Picture CODA   \n",
       "\n",
       "                                           2  \n",
       "0                                        NaN  \n",
       "1                                     2022 →  \n",
       "2                                        NaN  \n",
       "3                                        NaN  \n",
       "4                               Best Actress  \n",
       "5   Jessica Chastain(The Eyes of Tammy Faye)  \n",
       "6                                        NaN  \n",
       "7                    Best Supporting Actress  \n",
       "8             Ariana DeBose(West Side Story)  \n",
       "9                                        NaN  \n",
       "10                  Best Original Screenplay  \n",
       "11                  Kenneth Branagh(Belfast)  \n",
       "12                                       NaN  \n",
       "13                                       NaN  "
      ]
     },
     "execution_count": 10,
     "metadata": {},
     "output_type": "execute_result"
    }
   ],
   "source": [
    "awards[1]"
   ]
  }
 ],
 "metadata": {
  "kernelspec": {
   "display_name": "Python 3.9.12 ('base')",
   "language": "python",
   "name": "python3"
  },
  "language_info": {
   "codemirror_mode": {
    "name": "ipython",
    "version": 3
   },
   "file_extension": ".py",
   "mimetype": "text/x-python",
   "name": "python",
   "nbconvert_exporter": "python",
   "pygments_lexer": "ipython3",
   "version": "3.9.12"
  },
  "orig_nbformat": 4,
  "vscode": {
   "interpreter": {
    "hash": "a73f8eeb6bc34670c2d75fb6cfe66e775a0dd3f3895731a0e476c71254f11dc1"
   }
  }
 },
 "nbformat": 4,
 "nbformat_minor": 2
}
